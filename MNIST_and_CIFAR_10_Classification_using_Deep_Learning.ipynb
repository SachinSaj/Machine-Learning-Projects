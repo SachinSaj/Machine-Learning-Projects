{
  "nbformat": 4,
  "nbformat_minor": 0,
  "metadata": {
    "colab": {
      "name": "MNIST and CIFAR 10 Classification using Deep Learning",
      "provenance": [],
      "collapsed_sections": []
    },
    "kernelspec": {
      "name": "python3",
      "display_name": "Python 3"
    },
    "accelerator": "GPU"
  },
  "cells": [
    {
      "cell_type": "code",
      "metadata": {
        "id": "IOjLOdzHC3uG",
        "colab_type": "code",
        "colab": {}
      },
      "source": [
        "import keras\n",
        "from keras.datasets import mnist\n",
        "from keras.utils import np_utils\n",
        "from keras.layers import Dense, Conv2D, Flatten, MaxPool2D\n",
        "from keras.models import Sequential\n",
        "import matplotlib.pyplot as plt\n",
        "import numpy as np\n",
        "from sklearn.preprocessing import OneHotEncoder\n",
        "from sklearn import metrics"
      ],
      "execution_count": 0,
      "outputs": []
    },
    {
      "cell_type": "code",
      "metadata": {
        "id": "pfKHH3mJDrJ6",
        "colab_type": "code",
        "colab": {}
      },
      "source": [
        "# Loading the Dataset"
      ],
      "execution_count": 0,
      "outputs": []
    },
    {
      "cell_type": "code",
      "metadata": {
        "id": "-g6aAA5pDuX5",
        "colab_type": "code",
        "colab": {
          "base_uri": "https://localhost:8080/",
          "height": 52
        },
        "outputId": "f793dec6-7aa4-4e5c-cfbe-f0d3f7d2a2b2"
      },
      "source": [
        "(x_train,y_train),(x_test,y_test) = mnist.load_data()"
      ],
      "execution_count": 7,
      "outputs": [
        {
          "output_type": "stream",
          "text": [
            "Downloading data from https://s3.amazonaws.com/img-datasets/mnist.npz\n",
            "11493376/11490434 [==============================] - 1s 0us/step\n"
          ],
          "name": "stdout"
        }
      ]
    },
    {
      "cell_type": "code",
      "metadata": {
        "id": "M4gDrmJ5EHNy",
        "colab_type": "code",
        "colab": {}
      },
      "source": [
        "# Information Regarding Dataset"
      ],
      "execution_count": 0,
      "outputs": []
    },
    {
      "cell_type": "code",
      "metadata": {
        "id": "n6RZNW76ELXe",
        "colab_type": "code",
        "colab": {
          "base_uri": "https://localhost:8080/",
          "height": 369
        },
        "outputId": "18fe88b4-2a02-437c-8f41-fd9a15557908"
      },
      "source": [
        "print(len(x_train))\n",
        "print(len(x_test))\n",
        "print(x_train.shape)\n",
        "print(x_test.shape)\n",
        "print(np.unique(y_test))\n",
        "plt.imshow(x_train[0],cmap = 'gray')"
      ],
      "execution_count": 10,
      "outputs": [
        {
          "output_type": "stream",
          "text": [
            "60000\n",
            "10000\n",
            "(60000, 28, 28)\n",
            "(10000, 28, 28)\n",
            "[0 1 2 3 4 5 6 7 8 9]\n"
          ],
          "name": "stdout"
        },
        {
          "output_type": "execute_result",
          "data": {
            "text/plain": [
              "<matplotlib.image.AxesImage at 0x7facb83fba20>"
            ]
          },
          "metadata": {
            "tags": []
          },
          "execution_count": 10
        },
        {
          "output_type": "display_data",
          "data": {
            "image/png": "[encoded data removed]",
            "text/plain": [
              "<Figure size 432x288 with 1 Axes>"
            ]
          },
          "metadata": {
            "tags": []
          }
        }
      ]
    },
    {
      "cell_type": "code",
      "metadata": {
        "id": "Btp8KrOZEgui",
        "colab_type": "code",
        "colab": {}
      },
      "source": [
        "x_train = x_train / 255\n",
        "x_test = x_test / 255\n",
        "y_train_cat = np_utils.to_categorical(y_train,10)\n",
        "y_test_cat = np_utils.to_categorical(y_test,10)\n",
        "\n",
        "x_train = x_train.reshape(60000,28,28,1)\n",
        "x_test = x_test.reshape(10000,28,28,1)"
      ],
      "execution_count": 0,
      "outputs": []
    },
    {
      "cell_type": "code",
      "metadata": {
        "id": "bfx9kVwPFgOm",
        "colab_type": "code",
        "colab": {
          "base_uri": "https://localhost:8080/",
          "height": 398
        },
        "outputId": "1c8602df-eaab-44f9-a629-1197f842e810"
      },
      "source": [
        "model = Sequential()\n",
        "model.add(Conv2D(32,(4,4),input_shape = (28,28,1), activation='relu'))\n",
        "model.add(MaxPool2D(pool_size=(2,2)))\n",
        "\n",
        "model.add(Conv2D(32,(4,4),input_shape = (28,28,1), activation='relu'))\n",
        "model.add(MaxPool2D(pool_size=(2,2)))\n",
        "\n",
        "model.add(Flatten())\n",
        "\n",
        "model.add(Dense(128,activation='relu'))\n",
        "model.add(Dense(10,activation='softmax'))\n",
        "\n",
        "model.summary()"
      ],
      "execution_count": 16,
      "outputs": [
        {
          "output_type": "stream",
          "text": [
            "Model: \"sequential_2\"\n",
            "_________________________________________________________________\n",
            "Layer (type)                 Output Shape              Param #   \n",
            "=================================================================\n",
            "conv2d_3 (Conv2D)            (None, 25, 25, 32)        544       \n",
            "_________________________________________________________________\n",
            "max_pooling2d_3 (MaxPooling2 (None, 12, 12, 32)        0         \n",
            "_________________________________________________________________\n",
            "conv2d_4 (Conv2D)            (None, 9, 9, 32)          16416     \n",
            "_________________________________________________________________\n",
            "max_pooling2d_4 (MaxPooling2 (None, 4, 4, 32)          0         \n",
            "_________________________________________________________________\n",
            "flatten_2 (Flatten)          (None, 512)               0         \n",
            "_________________________________________________________________\n",
            "dense_2 (Dense)              (None, 128)               65664     \n",
            "_________________________________________________________________\n",
            "dense_3 (Dense)              (None, 10)                1290      \n",
            "=================================================================\n",
            "Total params: 83,914\n",
            "Trainable params: 83,914\n",
            "Non-trainable params: 0\n",
            "_________________________________________________________________\n"
          ],
          "name": "stdout"
        }
      ]
    },
    {
      "cell_type": "code",
      "metadata": {
        "id": "F4MxPbG0GDyf",
        "colab_type": "code",
        "colab": {}
      },
      "source": [
        "model.compile(loss = 'categorical_crossentropy', optimizer='rmsprop',metrics=['accuracy'])"
      ],
      "execution_count": 0,
      "outputs": []
    },
    {
      "cell_type": "code",
      "metadata": {
        "id": "ckfKhY4QGWJ6",
        "colab_type": "code",
        "colab": {
          "base_uri": "https://localhost:8080/",
          "height": 381
        },
        "outputId": "3a7754b0-6e1e-4c59-9647-4349039413d7"
      },
      "source": [
        "model.fit(x_train,y_train_cat,\n",
        "          epochs = 10,\n",
        "          verbose = 1)"
      ],
      "execution_count": 20,
      "outputs": [
        {
          "output_type": "stream",
          "text": [
            "Epoch 1/10\n",
            "60000/60000 [==============================] - 8s 126us/step - loss: 0.0261 - acc: 0.9921\n",
            "Epoch 2/10\n",
            "60000/60000 [==============================] - 8s 126us/step - loss: 0.0217 - acc: 0.9941\n",
            "Epoch 3/10\n",
            "60000/60000 [==============================] - 8s 127us/step - loss: 0.0190 - acc: 0.9946\n",
            "Epoch 4/10\n",
            "60000/60000 [==============================] - 8s 126us/step - loss: 0.0176 - acc: 0.9953\n",
            "Epoch 5/10\n",
            "60000/60000 [==============================] - 7s 124us/step - loss: 0.0156 - acc: 0.9957\n",
            "Epoch 6/10\n",
            "60000/60000 [==============================] - 7s 125us/step - loss: 0.0149 - acc: 0.9961\n",
            "Epoch 7/10\n",
            "60000/60000 [==============================] - 8s 127us/step - loss: 0.0128 - acc: 0.9968\n",
            "Epoch 8/10\n",
            "60000/60000 [==============================] - 8s 126us/step - loss: 0.0109 - acc: 0.9971\n",
            "Epoch 9/10\n",
            "60000/60000 [==============================] - 8s 125us/step - loss: 0.0102 - acc: 0.9974\n",
            "Epoch 10/10\n",
            "60000/60000 [==============================] - 8s 126us/step - loss: 0.0094 - acc: 0.9977\n"
          ],
          "name": "stdout"
        },
        {
          "output_type": "execute_result",
          "data": {
            "text/plain": [
              "<keras.callbacks.History at 0x7facb70f87b8>"
            ]
          },
          "metadata": {
            "tags": []
          },
          "execution_count": 20
        }
      ]
    },
    {
      "cell_type": "code",
      "metadata": {
        "id": "p3vx3U51Gm4s",
        "colab_type": "code",
        "colab": {
          "base_uri": "https://localhost:8080/",
          "height": 52
        },
        "outputId": "983d7390-48f9-4a4f-ee61-1cf4f76e4965"
      },
      "source": [
        "model.evaluate(x_test,y_test_cat)"
      ],
      "execution_count": 21,
      "outputs": [
        {
          "output_type": "stream",
          "text": [
            "10000/10000 [==============================] - 1s 61us/step\n"
          ],
          "name": "stdout"
        },
        {
          "output_type": "execute_result",
          "data": {
            "text/plain": [
              "[0.06107126493402252, 0.9908]"
            ]
          },
          "metadata": {
            "tags": []
          },
          "execution_count": 21
        }
      ]
    },
    {
      "cell_type": "code",
      "metadata": {
        "id": "hskdV0IGHLv3",
        "colab_type": "code",
        "colab": {}
      },
      "source": [
        "pred_class = model.predict_classes(x_test)"
      ],
      "execution_count": 0,
      "outputs": []
    },
    {
      "cell_type": "code",
      "metadata": {
        "id": "3fHmkeDSHTVV",
        "colab_type": "code",
        "colab": {
          "base_uri": "https://localhost:8080/",
          "height": 312
        },
        "outputId": "e735f4dc-f7db-4925-fa37-a11f32d7929c"
      },
      "source": [
        "classreport = metrics.classification_report(y_test,pred_class)\n",
        "print(classreport)"
      ],
      "execution_count": 24,
      "outputs": [
        {
          "output_type": "stream",
          "text": [
            "              precision    recall  f1-score   support\n",
            "\n",
            "           0       1.00      0.99      0.99       980\n",
            "           1       0.99      1.00      0.99      1135\n",
            "           2       0.99      0.99      0.99      1032\n",
            "           3       0.99      0.99      0.99      1010\n",
            "           4       0.99      0.99      0.99       982\n",
            "           5       0.97      0.99      0.98       892\n",
            "           6       0.99      0.99      0.99       958\n",
            "           7       0.99      0.99      0.99      1028\n",
            "           8       1.00      0.98      0.99       974\n",
            "           9       0.99      0.99      0.99      1009\n",
            "\n",
            "    accuracy                           0.99     10000\n",
            "   macro avg       0.99      0.99      0.99     10000\n",
            "weighted avg       0.99      0.99      0.99     10000\n",
            "\n"
          ],
          "name": "stdout"
        }
      ]
    },
    {
      "cell_type": "code",
      "metadata": {
        "id": "rNhj_wsrHkjT",
        "colab_type": "code",
        "colab": {
          "base_uri": "https://localhost:8080/",
          "height": 190
        },
        "outputId": "419b4d0d-0cc8-40b7-c29c-45a258c9d7f7"
      },
      "source": [
        "confmatrix = metrics.confusion_matrix(y_test,pred_class)\n",
        "print(confmatrix)"
      ],
      "execution_count": 25,
      "outputs": [
        {
          "output_type": "stream",
          "text": [
            "[[ 970    0    0    0    0    3    3    2    1    1]\n",
            " [   0 1130    0    1    0    1    3    0    0    0]\n",
            " [   1    3 1026    0    0    0    0    2    0    0]\n",
            " [   0    0    2  999    0    7    0    1    0    1]\n",
            " [   0    0    0    0  975    0    1    0    0    6]\n",
            " [   0    0    0    3    0  887    1    1    0    0]\n",
            " [   1    1    0    0    1    4  951    0    0    0]\n",
            " [   0    3    6    0    0    0    0 1016    0    3]\n",
            " [   2    0    2    2    1    5    1    1  958    2]\n",
            " [   0    0    0    1    5    5    1    1    0  996]]\n"
          ],
          "name": "stdout"
        }
      ]
    },
    {
      "cell_type": "code",
      "metadata": {
        "id": "D3LOJ-Q5Huf0",
        "colab_type": "code",
        "colab": {}
      },
      "source": [
        "# Cifar 10"
      ],
      "execution_count": 0,
      "outputs": []
    },
    {
      "cell_type": "code",
      "metadata": {
        "id": "4Eez2zDZXOE-",
        "colab_type": "code",
        "colab": {}
      },
      "source": [
        "import keras\n",
        "from keras.datasets import cifar10\n",
        "from keras.models import Sequential\n",
        "from keras.layers import Dense, Conv2D, MaxPool2D, Flatten\n",
        "from sklearn.preprocessing import OneHotEncoder\n",
        "from keras.utils import np_utils\n",
        "import matplotlib.pyplot as plt\n",
        "import numpy as np\n",
        "from sklearn import metrics\n",
        "%matplotlib inline"
      ],
      "execution_count": 0,
      "outputs": []
    },
    {
      "cell_type": "code",
      "metadata": {
        "id": "W-Bq2BSZXtvP",
        "colab_type": "code",
        "colab": {}
      },
      "source": [
        "# Loading the cifar10 dataset"
      ],
      "execution_count": 0,
      "outputs": []
    },
    {
      "cell_type": "code",
      "metadata": {
        "id": "rVDYHdd9X0Fb",
        "colab_type": "code",
        "colab": {}
      },
      "source": [
        "(x_train,y_train),(x_test,y_test) = cifar10.load_data()"
      ],
      "execution_count": 0,
      "outputs": []
    },
    {
      "cell_type": "code",
      "metadata": {
        "id": "BPkLJeNfX87Y",
        "colab_type": "code",
        "colab": {
          "base_uri": "https://localhost:8080/",
          "height": 365
        },
        "outputId": "21e993dd-40bf-4eaa-f82a-ec4a71b66b32"
      },
      "source": [
        "print(len(x_train))\n",
        "print(len(x_test))\n",
        "print(x_train.shape)\n",
        "print(x_test.shape)\n",
        "print(np.unique(y_test))\n",
        "plt.figure(figsize=(12,12))\n",
        "plt.subplot(1,3,1)\n",
        "plt.imshow(x_train[0])\n",
        "plt.subplot(1,3,2)\n",
        "plt.imshow(x_train[1])\n",
        "plt.subplot(1,3,3)\n",
        "plt.imshow(x_train[2])\n",
        "\n",
        "plt.title('Sample Images of the Datasets')"
      ],
      "execution_count": 4,
      "outputs": [
        {
          "output_type": "stream",
          "text": [
            "50000\n",
            "10000\n",
            "(50000, 32, 32, 3)\n",
            "(10000, 32, 32, 3)\n",
            "[0 1 2 3 4 5 6 7 8 9]\n"
          ],
          "name": "stdout"
        },
        {
          "output_type": "execute_result",
          "data": {
            "text/plain": [
              "Text(0.5, 1.0, 'Sample Images of the Datasets')"
            ]
          },
          "metadata": {
            "tags": []
          },
          "execution_count": 4
        },
        {
          "output_type": "display_data",
          "data": {
            "image/png": "[encoded data removed]",
            "text/plain": [
              "<Figure size 864x864 with 3 Axes>"
            ]
          },
          "metadata": {
            "tags": []
          }
        }
      ]
    },
    {
      "cell_type": "code",
      "metadata": {
        "id": "f0b-S2UiYefJ",
        "colab_type": "code",
        "colab": {}
      },
      "source": [
        "x_train = x_train / np.max(x_train)\n",
        "x_test = x_test / np.max(x_test)\n",
        "\n",
        "y_train_cat = np_utils.to_categorical(y_train,10)\n",
        "y_test_cat = np_utils.to_categorical(y_test,10)\n",
        "\n",
        "x_train = x_train.reshape(50000,32,32,3)\n",
        "x_test = x_test.reshape(10000,32,32,3)"
      ],
      "execution_count": 0,
      "outputs": []
    },
    {
      "cell_type": "code",
      "metadata": {
        "id": "sKS5IfrDZH5_",
        "colab_type": "code",
        "colab": {
          "base_uri": "https://localhost:8080/",
          "height": 34
        },
        "outputId": "f4fdc5ad-d82b-42fc-989a-3c5a43d350f0"
      },
      "source": [
        "y_train_cat[0]"
      ],
      "execution_count": 6,
      "outputs": [
        {
          "output_type": "execute_result",
          "data": {
            "text/plain": [
              "array([0., 0., 0., 0., 0., 0., 1., 0., 0., 0.], dtype=float32)"
            ]
          },
          "metadata": {
            "tags": []
          },
          "execution_count": 6
        }
      ]
    },
    {
      "cell_type": "code",
      "metadata": {
        "id": "EmcNWGaPZ2hh",
        "colab_type": "code",
        "colab": {
          "base_uri": "https://localhost:8080/",
          "height": 866
        },
        "outputId": "1f3a25a1-2423-4f8a-ea6d-bc67d2c11292"
      },
      "source": [
        "x_train[0]"
      ],
      "execution_count": 7,
      "outputs": [
        {
          "output_type": "execute_result",
          "data": {
            "text/plain": [
              "array([[[0.23137255, 0.24313725, 0.24705882],\n",
              "        [0.16862745, 0.18039216, 0.17647059],\n",
              "        [0.19607843, 0.18823529, 0.16862745],\n",
              "        ...,\n",
              "        [0.61960784, 0.51764706, 0.42352941],\n",
              "        [0.59607843, 0.49019608, 0.4       ],\n",
              "        [0.58039216, 0.48627451, 0.40392157]],\n",
              "\n",
              "       [[0.0627451 , 0.07843137, 0.07843137],\n",
              "        [0.        , 0.        , 0.        ],\n",
              "        [0.07058824, 0.03137255, 0.        ],\n",
              "        ...,\n",
              "        [0.48235294, 0.34509804, 0.21568627],\n",
              "        [0.46666667, 0.3254902 , 0.19607843],\n",
              "        [0.47843137, 0.34117647, 0.22352941]],\n",
              "\n",
              "       [[0.09803922, 0.09411765, 0.08235294],\n",
              "        [0.0627451 , 0.02745098, 0.        ],\n",
              "        [0.19215686, 0.10588235, 0.03137255],\n",
              "        ...,\n",
              "        [0.4627451 , 0.32941176, 0.19607843],\n",
              "        [0.47058824, 0.32941176, 0.19607843],\n",
              "        [0.42745098, 0.28627451, 0.16470588]],\n",
              "\n",
              "       ...,\n",
              "\n",
              "       [[0.81568627, 0.66666667, 0.37647059],\n",
              "        [0.78823529, 0.6       , 0.13333333],\n",
              "        [0.77647059, 0.63137255, 0.10196078],\n",
              "        ...,\n",
              "        [0.62745098, 0.52156863, 0.2745098 ],\n",
              "        [0.21960784, 0.12156863, 0.02745098],\n",
              "        [0.20784314, 0.13333333, 0.07843137]],\n",
              "\n",
              "       [[0.70588235, 0.54509804, 0.37647059],\n",
              "        [0.67843137, 0.48235294, 0.16470588],\n",
              "        [0.72941176, 0.56470588, 0.11764706],\n",
              "        ...,\n",
              "        [0.72156863, 0.58039216, 0.36862745],\n",
              "        [0.38039216, 0.24313725, 0.13333333],\n",
              "        [0.3254902 , 0.20784314, 0.13333333]],\n",
              "\n",
              "       [[0.69411765, 0.56470588, 0.45490196],\n",
              "        [0.65882353, 0.50588235, 0.36862745],\n",
              "        [0.70196078, 0.55686275, 0.34117647],\n",
              "        ...,\n",
              "        [0.84705882, 0.72156863, 0.54901961],\n",
              "        [0.59215686, 0.4627451 , 0.32941176],\n",
              "        [0.48235294, 0.36078431, 0.28235294]]])"
            ]
          },
          "metadata": {
            "tags": []
          },
          "execution_count": 7
        }
      ]
    },
    {
      "cell_type": "code",
      "metadata": {
        "id": "hEAng5NvZ67a",
        "colab_type": "code",
        "colab": {
          "base_uri": "https://localhost:8080/",
          "height": 606
        },
        "outputId": "f2fcea26-d50d-497b-fef3-709c7eb4c6ff"
      },
      "source": [
        "model = Sequential()\n",
        "\n",
        "model.add(Conv2D(64,(4,4),input_shape = (32,32,3), activation = 'relu'))\n",
        "model.add(Conv2D(32,(4,4),activation='relu'))\n",
        "model.add(MaxPool2D(pool_size=(2,2)))\n",
        "\n",
        "model.add(Conv2D(64,(4,4),input_shape = (32,32,3), activation = 'relu'))\n",
        "model.add(Conv2D(32,(4,4),activation='relu'))\n",
        "model.add(MaxPool2D(pool_size=(2,2)))\n",
        "\n",
        "model.add(Flatten())\n",
        "\n",
        "model.add(Dense(128,activation='relu'))\n",
        "model.add(Dense(10,activation='softmax'))\n",
        "\n",
        "model.summary()"
      ],
      "execution_count": 8,
      "outputs": [
        {
          "output_type": "stream",
          "text": [
            "WARNING:tensorflow:From /usr/local/lib/python3.6/dist-packages/keras/backend/tensorflow_backend.py:66: The name tf.get_default_graph is deprecated. Please use tf.compat.v1.get_default_graph instead.\n",
            "\n",
            "WARNING:tensorflow:From /usr/local/lib/python3.6/dist-packages/keras/backend/tensorflow_backend.py:541: The name tf.placeholder is deprecated. Please use tf.compat.v1.placeholder instead.\n",
            "\n",
            "WARNING:tensorflow:From /usr/local/lib/python3.6/dist-packages/keras/backend/tensorflow_backend.py:4432: The name tf.random_uniform is deprecated. Please use tf.random.uniform instead.\n",
            "\n",
            "WARNING:tensorflow:From /usr/local/lib/python3.6/dist-packages/keras/backend/tensorflow_backend.py:4267: The name tf.nn.max_pool is deprecated. Please use tf.nn.max_pool2d instead.\n",
            "\n",
            "Model: \"sequential_1\"\n",
            "_________________________________________________________________\n",
            "Layer (type)                 Output Shape              Param #   \n",
            "=================================================================\n",
            "conv2d_1 (Conv2D)            (None, 29, 29, 64)        3136      \n",
            "_________________________________________________________________\n",
            "conv2d_2 (Conv2D)            (None, 26, 26, 32)        32800     \n",
            "_________________________________________________________________\n",
            "max_pooling2d_1 (MaxPooling2 (None, 13, 13, 32)        0         \n",
            "_________________________________________________________________\n",
            "conv2d_3 (Conv2D)            (None, 10, 10, 64)        32832     \n",
            "_________________________________________________________________\n",
            "conv2d_4 (Conv2D)            (None, 7, 7, 32)          32800     \n",
            "_________________________________________________________________\n",
            "max_pooling2d_2 (MaxPooling2 (None, 3, 3, 32)          0         \n",
            "_________________________________________________________________\n",
            "flatten_1 (Flatten)          (None, 288)               0         \n",
            "_________________________________________________________________\n",
            "dense_1 (Dense)              (None, 128)               36992     \n",
            "_________________________________________________________________\n",
            "dense_2 (Dense)              (None, 10)                1290      \n",
            "=================================================================\n",
            "Total params: 139,850\n",
            "Trainable params: 139,850\n",
            "Non-trainable params: 0\n",
            "_________________________________________________________________\n"
          ],
          "name": "stdout"
        }
      ]
    },
    {
      "cell_type": "code",
      "metadata": {
        "id": "jP7yWK47alz4",
        "colab_type": "code",
        "colab": {
          "base_uri": "https://localhost:8080/",
          "height": 86
        },
        "outputId": "30bba79d-1a9c-45cf-802a-4efd537732e4"
      },
      "source": [
        "model.compile(loss='categorical_crossentropy',optimizer='rmsprop',metrics=['accuracy'])"
      ],
      "execution_count": 9,
      "outputs": [
        {
          "output_type": "stream",
          "text": [
            "WARNING:tensorflow:From /usr/local/lib/python3.6/dist-packages/keras/optimizers.py:793: The name tf.train.Optimizer is deprecated. Please use tf.compat.v1.train.Optimizer instead.\n",
            "\n",
            "WARNING:tensorflow:From /usr/local/lib/python3.6/dist-packages/keras/backend/tensorflow_backend.py:3576: The name tf.log is deprecated. Please use tf.math.log instead.\n",
            "\n"
          ],
          "name": "stdout"
        }
      ]
    },
    {
      "cell_type": "code",
      "metadata": {
        "id": "Jbb8PFd6awQU",
        "colab_type": "code",
        "colab": {
          "base_uri": "https://localhost:8080/",
          "height": 398
        },
        "outputId": "9c72e003-1ba7-4a7b-c390-318051a9a881"
      },
      "source": [
        "model.fit(x_train,y_train_cat,epochs=10,validation_split=0.10,verbose=1)"
      ],
      "execution_count": 11,
      "outputs": [
        {
          "output_type": "stream",
          "text": [
            "Train on 45000 samples, validate on 5000 samples\n",
            "Epoch 1/10\n",
            "45000/45000 [==============================] - 9s 209us/step - loss: 1.4092 - acc: 0.4922 - val_loss: 1.6050 - val_acc: 0.4604\n",
            "Epoch 2/10\n",
            "45000/45000 [==============================] - 9s 203us/step - loss: 1.1689 - acc: 0.5909 - val_loss: 1.7357 - val_acc: 0.4220\n",
            "Epoch 3/10\n",
            "45000/45000 [==============================] - 9s 203us/step - loss: 1.0168 - acc: 0.6452 - val_loss: 1.2602 - val_acc: 0.5898\n",
            "Epoch 4/10\n",
            "45000/45000 [==============================] - 9s 207us/step - loss: 0.9250 - acc: 0.6791 - val_loss: 1.0029 - val_acc: 0.6606\n",
            "Epoch 5/10\n",
            "45000/45000 [==============================] - 9s 202us/step - loss: 0.8595 - acc: 0.7039 - val_loss: 1.1761 - val_acc: 0.6166\n",
            "Epoch 6/10\n",
            "45000/45000 [==============================] - 9s 202us/step - loss: 0.8048 - acc: 0.7219 - val_loss: 1.0899 - val_acc: 0.6514\n",
            "Epoch 7/10\n",
            "45000/45000 [==============================] - 9s 203us/step - loss: 0.7598 - acc: 0.7364 - val_loss: 0.9432 - val_acc: 0.6960\n",
            "Epoch 8/10\n",
            "45000/45000 [==============================] - 9s 203us/step - loss: 0.7234 - acc: 0.7512 - val_loss: 0.9447 - val_acc: 0.6950\n",
            "Epoch 9/10\n",
            "45000/45000 [==============================] - 9s 201us/step - loss: 0.7031 - acc: 0.7571 - val_loss: 1.0802 - val_acc: 0.6748\n",
            "Epoch 10/10\n",
            "45000/45000 [==============================] - 9s 203us/step - loss: 0.6862 - acc: 0.7649 - val_loss: 1.2265 - val_acc: 0.6028\n"
          ],
          "name": "stdout"
        },
        {
          "output_type": "execute_result",
          "data": {
            "text/plain": [
              "<keras.callbacks.History at 0x7f052ba23cc0>"
            ]
          },
          "metadata": {
            "tags": []
          },
          "execution_count": 11
        }
      ]
    },
    {
      "cell_type": "code",
      "metadata": {
        "id": "uZ8RpDmpa4yB",
        "colab_type": "code",
        "colab": {
          "base_uri": "https://localhost:8080/",
          "height": 52
        },
        "outputId": "b9e8b77b-ba17-4fe1-b256-4eb84eb57141"
      },
      "source": [
        "model.evaluate(x_test,y_test_cat)"
      ],
      "execution_count": 12,
      "outputs": [
        {
          "output_type": "stream",
          "text": [
            "10000/10000 [==============================] - 1s 107us/step\n"
          ],
          "name": "stdout"
        },
        {
          "output_type": "execute_result",
          "data": {
            "text/plain": [
              "[1.2503136952400207, 0.5991]"
            ]
          },
          "metadata": {
            "tags": []
          },
          "execution_count": 12
        }
      ]
    },
    {
      "cell_type": "code",
      "metadata": {
        "id": "NsCx3IQjdIVW",
        "colab_type": "code",
        "colab": {}
      },
      "source": [
        "pred_class = model.predict_classes(x_test)"
      ],
      "execution_count": 0,
      "outputs": []
    },
    {
      "cell_type": "code",
      "metadata": {
        "id": "cPKhjlUwdM6q",
        "colab_type": "code",
        "colab": {
          "base_uri": "https://localhost:8080/",
          "height": 312
        },
        "outputId": "7ec04b4c-43c4-4f37-fc6c-896f36220134"
      },
      "source": [
        "class_report  = metrics.classification_report(y_test,pred_class)\n",
        "print(class_report)"
      ],
      "execution_count": 17,
      "outputs": [
        {
          "output_type": "stream",
          "text": [
            "              precision    recall  f1-score   support\n",
            "\n",
            "           0       0.62      0.67      0.64      1000\n",
            "           1       0.49      0.93      0.64      1000\n",
            "           2       0.44      0.61      0.51      1000\n",
            "           3       0.50      0.40      0.44      1000\n",
            "           4       0.62      0.49      0.55      1000\n",
            "           5       0.55      0.60      0.58      1000\n",
            "           6       0.69      0.76      0.72      1000\n",
            "           7       0.84      0.49      0.62      1000\n",
            "           8       0.88      0.41      0.56      1000\n",
            "           9       0.77      0.62      0.69      1000\n",
            "\n",
            "    accuracy                           0.60     10000\n",
            "   macro avg       0.64      0.60      0.60     10000\n",
            "weighted avg       0.64      0.60      0.60     10000\n",
            "\n"
          ],
          "name": "stdout"
        }
      ]
    },
    {
      "cell_type": "code",
      "metadata": {
        "id": "S7G1yHoadjrQ",
        "colab_type": "code",
        "colab": {
          "base_uri": "https://localhost:8080/",
          "height": 190
        },
        "outputId": "b574c714-f4a0-478f-df8e-007b97ac77ea"
      },
      "source": [
        "conf_matrix = metrics.confusion_matrix(y_test,pred_class)\n",
        "print(conf_matrix)"
      ],
      "execution_count": 20,
      "outputs": [
        {
          "output_type": "stream",
          "text": [
            "[[671 153  68  22  18   2  16   8  23  19]\n",
            " [  8 933  11   5   3   3  12   0   4  21]\n",
            " [ 88  28 609  60  44  66  66  12   6  21]\n",
            " [ 36  47 132 398  50 211  91  11   3  21]\n",
            " [ 36  30 160  83 489  62  91  29   6  14]\n",
            " [ 37  30 143  86  36 605  32  22   1   8]\n",
            " [ 10  36  84  43  11  36 760   5   0  15]\n",
            " [ 28  31 119  62 120 101  23 489   1  26]\n",
            " [129 356  26  20  10   4   4   1 414  36]\n",
            " [ 39 259  25  12   3  13   8   6  12 623]]\n"
          ],
          "name": "stdout"
        }
      ]
    },
    {
      "cell_type": "code",
      "metadata": {
        "id": "ycGUl6Dwd0e6",
        "colab_type": "code",
        "colab": {}
      },
      "source": [
        "# after 100 epochs"
      ],
      "execution_count": 0,
      "outputs": []
    },
    {
      "cell_type": "code",
      "metadata": {
        "id": "aF30KN71eF9e",
        "colab_type": "code",
        "colab": {
          "base_uri": "https://localhost:8080/",
          "height": 1000
        },
        "outputId": "f378f3af-0815-45dd-90f1-b5f48af19386"
      },
      "source": [
        "model.fit(x_train,y_train_cat,epochs = 100,verbose=1,validation_split=0.10)"
      ],
      "execution_count": 23,
      "outputs": [
        {
          "output_type": "stream",
          "text": [
            "Train on 45000 samples, validate on 5000 samples\n",
            "Epoch 1/100\n",
            "45000/45000 [==============================] - 9s 204us/step - loss: 0.7131 - acc: 0.7630 - val_loss: 0.9668 - val_acc: 0.7132\n",
            "Epoch 2/100\n",
            "45000/45000 [==============================] - 9s 208us/step - loss: 0.7101 - acc: 0.7652 - val_loss: 0.9271 - val_acc: 0.7042\n",
            "Epoch 3/100\n",
            "45000/45000 [==============================] - 9s 205us/step - loss: 0.7138 - acc: 0.7659 - val_loss: 1.4677 - val_acc: 0.6440\n",
            "Epoch 4/100\n",
            "45000/45000 [==============================] - 9s 202us/step - loss: 0.7168 - acc: 0.7648 - val_loss: 1.7149 - val_acc: 0.6486\n",
            "Epoch 5/100\n",
            "45000/45000 [==============================] - 9s 207us/step - loss: 0.7207 - acc: 0.7655 - val_loss: 1.2548 - val_acc: 0.6970\n",
            "Epoch 6/100\n",
            "45000/45000 [==============================] - 9s 200us/step - loss: 0.7273 - acc: 0.7626 - val_loss: 1.0706 - val_acc: 0.6756\n",
            "Epoch 7/100\n",
            "45000/45000 [==============================] - 9s 201us/step - loss: 0.7393 - acc: 0.7598 - val_loss: 1.6378 - val_acc: 0.6292\n",
            "Epoch 8/100\n",
            "45000/45000 [==============================] - 9s 199us/step - loss: 0.7376 - acc: 0.7578 - val_loss: 1.1845 - val_acc: 0.6820\n",
            "Epoch 9/100\n",
            "45000/45000 [==============================] - 9s 203us/step - loss: 0.7428 - acc: 0.7614 - val_loss: 1.1550 - val_acc: 0.6646\n",
            "Epoch 10/100\n",
            "45000/45000 [==============================] - 9s 202us/step - loss: 0.7505 - acc: 0.7568 - val_loss: 1.4153 - val_acc: 0.6382\n",
            "Epoch 11/100\n",
            "45000/45000 [==============================] - 9s 205us/step - loss: 0.7528 - acc: 0.7544 - val_loss: 1.5342 - val_acc: 0.6518\n",
            "Epoch 12/100\n",
            "45000/45000 [==============================] - 9s 207us/step - loss: 0.7716 - acc: 0.7500 - val_loss: 1.7761 - val_acc: 0.6188\n",
            "Epoch 13/100\n",
            "45000/45000 [==============================] - 9s 203us/step - loss: 0.7726 - acc: 0.7497 - val_loss: 1.1776 - val_acc: 0.6080\n",
            "Epoch 14/100\n",
            "45000/45000 [==============================] - 9s 202us/step - loss: 0.7764 - acc: 0.7509 - val_loss: 1.7196 - val_acc: 0.5442\n",
            "Epoch 15/100\n",
            "45000/45000 [==============================] - 9s 204us/step - loss: 0.7778 - acc: 0.7482 - val_loss: 1.2199 - val_acc: 0.6796\n",
            "Epoch 16/100\n",
            "45000/45000 [==============================] - 9s 202us/step - loss: 0.7653 - acc: 0.7524 - val_loss: 1.1132 - val_acc: 0.6736\n",
            "Epoch 17/100\n",
            "45000/45000 [==============================] - 9s 202us/step - loss: 0.7688 - acc: 0.7518 - val_loss: 1.6303 - val_acc: 0.6242\n",
            "Epoch 18/100\n",
            "45000/45000 [==============================] - 9s 204us/step - loss: 0.7651 - acc: 0.7522 - val_loss: 1.3901 - val_acc: 0.6660\n",
            "Epoch 19/100\n",
            "45000/45000 [==============================] - 9s 200us/step - loss: 0.7538 - acc: 0.7548 - val_loss: 1.3659 - val_acc: 0.6458\n",
            "Epoch 20/100\n",
            "45000/45000 [==============================] - 9s 201us/step - loss: 0.7545 - acc: 0.7566 - val_loss: 1.4957 - val_acc: 0.6524\n",
            "Epoch 21/100\n",
            "45000/45000 [==============================] - 9s 203us/step - loss: 0.7425 - acc: 0.7622 - val_loss: 1.5270 - val_acc: 0.5570\n",
            "Epoch 22/100\n",
            "45000/45000 [==============================] - 9s 203us/step - loss: 0.7438 - acc: 0.7588 - val_loss: 1.2873 - val_acc: 0.6532\n",
            "Epoch 23/100\n",
            "45000/45000 [==============================] - 9s 201us/step - loss: 0.7403 - acc: 0.7614 - val_loss: 1.4319 - val_acc: 0.6320\n",
            "Epoch 24/100\n",
            "45000/45000 [==============================] - 9s 201us/step - loss: 0.7341 - acc: 0.7637 - val_loss: 1.2947 - val_acc: 0.6270\n",
            "Epoch 25/100\n",
            "45000/45000 [==============================] - 9s 202us/step - loss: 0.7164 - acc: 0.7665 - val_loss: 1.1787 - val_acc: 0.6386\n",
            "Epoch 26/100\n",
            "45000/45000 [==============================] - 9s 202us/step - loss: 0.7172 - acc: 0.7671 - val_loss: 1.1775 - val_acc: 0.6418\n",
            "Epoch 27/100\n",
            "45000/45000 [==============================] - 9s 202us/step - loss: 0.7452 - acc: 0.7619 - val_loss: 1.0864 - val_acc: 0.6632\n",
            "Epoch 28/100\n",
            "45000/45000 [==============================] - 9s 203us/step - loss: 0.7152 - acc: 0.7696 - val_loss: 1.3108 - val_acc: 0.6554\n",
            "Epoch 29/100\n",
            "45000/45000 [==============================] - 9s 204us/step - loss: 0.7190 - acc: 0.7695 - val_loss: 1.1346 - val_acc: 0.6756\n",
            "Epoch 30/100\n",
            "45000/45000 [==============================] - 9s 203us/step - loss: 0.7013 - acc: 0.7746 - val_loss: 1.2548 - val_acc: 0.6802\n",
            "Epoch 31/100\n",
            "45000/45000 [==============================] - 9s 205us/step - loss: 0.6987 - acc: 0.7747 - val_loss: 1.5003 - val_acc: 0.6560\n",
            "Epoch 32/100\n",
            "45000/45000 [==============================] - 9s 202us/step - loss: 0.7002 - acc: 0.7742 - val_loss: 1.5052 - val_acc: 0.6742\n",
            "Epoch 33/100\n",
            "45000/45000 [==============================] - 9s 202us/step - loss: 0.6959 - acc: 0.7760 - val_loss: 1.1407 - val_acc: 0.6786\n",
            "Epoch 34/100\n",
            "45000/45000 [==============================] - 9s 201us/step - loss: 0.6984 - acc: 0.7770 - val_loss: 1.4661 - val_acc: 0.5898\n",
            "Epoch 35/100\n",
            "45000/45000 [==============================] - 9s 204us/step - loss: 0.7045 - acc: 0.7750 - val_loss: 1.2121 - val_acc: 0.6722\n",
            "Epoch 36/100\n",
            "45000/45000 [==============================] - 9s 205us/step - loss: 0.6905 - acc: 0.7779 - val_loss: 1.5559 - val_acc: 0.6122\n",
            "Epoch 37/100\n",
            "45000/45000 [==============================] - 9s 207us/step - loss: 0.6989 - acc: 0.7810 - val_loss: 1.8444 - val_acc: 0.5712\n",
            "Epoch 38/100\n",
            "45000/45000 [==============================] - 9s 206us/step - loss: 0.7138 - acc: 0.7756 - val_loss: 1.5917 - val_acc: 0.6616\n",
            "Epoch 39/100\n",
            "45000/45000 [==============================] - 9s 203us/step - loss: 0.7192 - acc: 0.7717 - val_loss: 1.4177 - val_acc: 0.5978\n",
            "Epoch 40/100\n",
            "45000/45000 [==============================] - 9s 204us/step - loss: 0.6971 - acc: 0.7788 - val_loss: 1.6439 - val_acc: 0.5150\n",
            "Epoch 41/100\n",
            "45000/45000 [==============================] - 9s 201us/step - loss: 0.7272 - acc: 0.7756 - val_loss: 1.4521 - val_acc: 0.5846\n",
            "Epoch 42/100\n",
            "45000/45000 [==============================] - 9s 204us/step - loss: 0.7503 - acc: 0.7675 - val_loss: 1.3631 - val_acc: 0.6580\n",
            "Epoch 43/100\n",
            "45000/45000 [==============================] - 9s 201us/step - loss: 0.7531 - acc: 0.7663 - val_loss: 1.2396 - val_acc: 0.6288\n",
            "Epoch 44/100\n",
            "45000/45000 [==============================] - 9s 204us/step - loss: 0.7304 - acc: 0.7709 - val_loss: 2.4088 - val_acc: 0.6298\n",
            "Epoch 45/100\n",
            "45000/45000 [==============================] - 9s 200us/step - loss: 0.7138 - acc: 0.7728 - val_loss: 1.2986 - val_acc: 0.6954\n",
            "Epoch 46/100\n",
            "45000/45000 [==============================] - 9s 201us/step - loss: 0.7378 - acc: 0.7754 - val_loss: 1.4726 - val_acc: 0.6626\n",
            "Epoch 47/100\n",
            "45000/45000 [==============================] - 9s 203us/step - loss: 0.7283 - acc: 0.7738 - val_loss: 1.3154 - val_acc: 0.6154\n",
            "Epoch 48/100\n",
            "45000/45000 [==============================] - 9s 204us/step - loss: 0.7313 - acc: 0.7730 - val_loss: 1.1644 - val_acc: 0.6874\n",
            "Epoch 49/100\n",
            "45000/45000 [==============================] - 9s 202us/step - loss: 0.7017 - acc: 0.7765 - val_loss: 1.3996 - val_acc: 0.6692\n",
            "Epoch 50/100\n",
            "45000/45000 [==============================] - 9s 201us/step - loss: 0.7171 - acc: 0.7757 - val_loss: 1.3200 - val_acc: 0.5890\n",
            "Epoch 51/100\n",
            "45000/45000 [==============================] - 9s 204us/step - loss: 0.7421 - acc: 0.7702 - val_loss: 6.5599 - val_acc: 0.4316\n",
            "Epoch 52/100\n",
            "45000/45000 [==============================] - 9s 204us/step - loss: 0.7685 - acc: 0.7651 - val_loss: 1.3524 - val_acc: 0.6162\n",
            "Epoch 53/100\n",
            "45000/45000 [==============================] - 9s 200us/step - loss: 0.7229 - acc: 0.7734 - val_loss: 1.2534 - val_acc: 0.6620\n",
            "Epoch 54/100\n",
            "45000/45000 [==============================] - 9s 202us/step - loss: 0.7314 - acc: 0.7745 - val_loss: 1.9114 - val_acc: 0.5246\n",
            "Epoch 55/100\n",
            "45000/45000 [==============================] - 9s 204us/step - loss: 0.7397 - acc: 0.7738 - val_loss: 1.5174 - val_acc: 0.6570\n",
            "Epoch 56/100\n",
            "45000/45000 [==============================] - 9s 202us/step - loss: 0.7424 - acc: 0.7722 - val_loss: 1.2219 - val_acc: 0.6374\n",
            "Epoch 57/100\n",
            "45000/45000 [==============================] - 9s 204us/step - loss: 0.7331 - acc: 0.7722 - val_loss: 1.9939 - val_acc: 0.4528\n",
            "Epoch 58/100\n",
            "45000/45000 [==============================] - 9s 203us/step - loss: 0.7774 - acc: 0.7653 - val_loss: 1.8911 - val_acc: 0.6422\n",
            "Epoch 59/100\n",
            "45000/45000 [==============================] - 9s 201us/step - loss: 0.7663 - acc: 0.7679 - val_loss: 1.1638 - val_acc: 0.6834\n",
            "Epoch 60/100\n",
            "45000/45000 [==============================] - 9s 200us/step - loss: 0.7816 - acc: 0.7620 - val_loss: 2.5539 - val_acc: 0.5184\n",
            "Epoch 61/100\n",
            "45000/45000 [==============================] - 9s 200us/step - loss: 0.7376 - acc: 0.7683 - val_loss: 1.2498 - val_acc: 0.6846\n",
            "Epoch 62/100\n",
            "45000/45000 [==============================] - 9s 202us/step - loss: 0.7452 - acc: 0.7690 - val_loss: 1.7141 - val_acc: 0.6504\n",
            "Epoch 63/100\n",
            "45000/45000 [==============================] - 9s 202us/step - loss: 0.7416 - acc: 0.7664 - val_loss: 2.1440 - val_acc: 0.6070\n",
            "Epoch 64/100\n",
            "45000/45000 [==============================] - 9s 204us/step - loss: 0.7748 - acc: 0.7612 - val_loss: 1.4130 - val_acc: 0.6386\n",
            "Epoch 65/100\n",
            "45000/45000 [==============================] - 9s 203us/step - loss: 0.8052 - acc: 0.7606 - val_loss: 1.6987 - val_acc: 0.6274\n",
            "Epoch 66/100\n",
            "45000/45000 [==============================] - 9s 200us/step - loss: 0.7564 - acc: 0.7674 - val_loss: 1.3105 - val_acc: 0.6832\n",
            "Epoch 67/100\n",
            "45000/45000 [==============================] - 9s 204us/step - loss: 0.7577 - acc: 0.7709 - val_loss: 1.5089 - val_acc: 0.6518\n",
            "Epoch 68/100\n",
            "45000/45000 [==============================] - 9s 202us/step - loss: 0.7183 - acc: 0.7796 - val_loss: 1.4441 - val_acc: 0.6962\n",
            "Epoch 69/100\n",
            "45000/45000 [==============================] - 9s 203us/step - loss: 0.7515 - acc: 0.7727 - val_loss: 1.4462 - val_acc: 0.6816\n",
            "Epoch 70/100\n",
            "45000/45000 [==============================] - 9s 204us/step - loss: 0.7423 - acc: 0.7720 - val_loss: 1.4508 - val_acc: 0.6736\n",
            "Epoch 71/100\n",
            "45000/45000 [==============================] - 9s 208us/step - loss: 0.7383 - acc: 0.7773 - val_loss: 1.3637 - val_acc: 0.6572\n",
            "Epoch 72/100\n",
            "45000/45000 [==============================] - 9s 202us/step - loss: 0.7407 - acc: 0.7763 - val_loss: 1.4601 - val_acc: 0.6812\n",
            "Epoch 73/100\n",
            "45000/45000 [==============================] - 9s 202us/step - loss: 0.7786 - acc: 0.7706 - val_loss: 1.7131 - val_acc: 0.6472\n",
            "Epoch 74/100\n",
            "45000/45000 [==============================] - 9s 202us/step - loss: 0.7622 - acc: 0.7774 - val_loss: 1.3684 - val_acc: 0.6140\n",
            "Epoch 75/100\n",
            "45000/45000 [==============================] - 9s 201us/step - loss: 0.7745 - acc: 0.7682 - val_loss: 1.5643 - val_acc: 0.6336\n",
            "Epoch 76/100\n",
            "45000/45000 [==============================] - 9s 200us/step - loss: 0.7664 - acc: 0.7738 - val_loss: 2.2376 - val_acc: 0.6006\n",
            "Epoch 77/100\n",
            "45000/45000 [==============================] - 9s 206us/step - loss: 0.7419 - acc: 0.7719 - val_loss: 2.2512 - val_acc: 0.5614\n",
            "Epoch 78/100\n",
            "45000/45000 [==============================] - 9s 201us/step - loss: 0.7460 - acc: 0.7742 - val_loss: 1.6128 - val_acc: 0.6502\n",
            "Epoch 79/100\n",
            "45000/45000 [==============================] - 9s 200us/step - loss: 0.7552 - acc: 0.7730 - val_loss: 1.4063 - val_acc: 0.6386\n",
            "Epoch 80/100\n",
            "45000/45000 [==============================] - 9s 201us/step - loss: 0.7258 - acc: 0.7739 - val_loss: 1.8277 - val_acc: 0.5340\n",
            "Epoch 81/100\n",
            "45000/45000 [==============================] - 9s 203us/step - loss: 0.7039 - acc: 0.7848 - val_loss: 1.2174 - val_acc: 0.6558\n",
            "Epoch 82/100\n",
            "45000/45000 [==============================] - 9s 204us/step - loss: 0.7618 - acc: 0.7701 - val_loss: 1.4206 - val_acc: 0.6312\n",
            "Epoch 83/100\n",
            "45000/45000 [==============================] - 9s 201us/step - loss: 0.7498 - acc: 0.7741 - val_loss: 1.4132 - val_acc: 0.6508\n",
            "Epoch 84/100\n",
            "45000/45000 [==============================] - 9s 204us/step - loss: 0.7395 - acc: 0.7783 - val_loss: 1.3997 - val_acc: 0.6730\n",
            "Epoch 85/100\n",
            "45000/45000 [==============================] - 9s 202us/step - loss: 0.8005 - acc: 0.7681 - val_loss: 1.6864 - val_acc: 0.6214\n",
            "Epoch 86/100\n",
            "45000/45000 [==============================] - 9s 203us/step - loss: 0.7764 - acc: 0.7723 - val_loss: 2.9911 - val_acc: 0.5738\n",
            "Epoch 87/100\n",
            "45000/45000 [==============================] - 9s 202us/step - loss: 0.7550 - acc: 0.7792 - val_loss: 1.2728 - val_acc: 0.6288\n",
            "Epoch 88/100\n",
            "45000/45000 [==============================] - 9s 204us/step - loss: 0.7681 - acc: 0.7751 - val_loss: 1.3889 - val_acc: 0.6306\n",
            "Epoch 89/100\n",
            "45000/45000 [==============================] - 9s 202us/step - loss: 0.8265 - acc: 0.7692 - val_loss: 1.6145 - val_acc: 0.6530\n",
            "Epoch 90/100\n",
            "45000/45000 [==============================] - 9s 205us/step - loss: 0.7454 - acc: 0.7740 - val_loss: 2.1203 - val_acc: 0.6300\n",
            "Epoch 91/100\n",
            "45000/45000 [==============================] - 9s 204us/step - loss: 0.7296 - acc: 0.7821 - val_loss: 2.1135 - val_acc: 0.6192\n",
            "Epoch 92/100\n",
            "45000/45000 [==============================] - 9s 203us/step - loss: 0.7409 - acc: 0.7765 - val_loss: 1.5813 - val_acc: 0.6808\n",
            "Epoch 93/100\n",
            "45000/45000 [==============================] - 9s 203us/step - loss: 0.8237 - acc: 0.7621 - val_loss: 1.4360 - val_acc: 0.6528\n",
            "Epoch 94/100\n",
            "45000/45000 [==============================] - 9s 204us/step - loss: 0.7450 - acc: 0.7726 - val_loss: 1.4152 - val_acc: 0.6914\n",
            "Epoch 95/100\n",
            "45000/45000 [==============================] - 9s 203us/step - loss: 0.8828 - acc: 0.7639 - val_loss: 2.1488 - val_acc: 0.4906\n",
            "Epoch 96/100\n",
            "45000/45000 [==============================] - 9s 204us/step - loss: 0.8027 - acc: 0.7685 - val_loss: 1.7578 - val_acc: 0.5520\n",
            "Epoch 97/100\n",
            "45000/45000 [==============================] - 9s 206us/step - loss: 0.7885 - acc: 0.7655 - val_loss: 1.5974 - val_acc: 0.6608\n",
            "Epoch 98/100\n",
            "45000/45000 [==============================] - 9s 201us/step - loss: 0.7798 - acc: 0.7733 - val_loss: 1.5940 - val_acc: 0.6008\n",
            "Epoch 99/100\n",
            "45000/45000 [==============================] - 9s 201us/step - loss: 0.7723 - acc: 0.7707 - val_loss: 1.3806 - val_acc: 0.6798\n",
            "Epoch 100/100\n",
            "45000/45000 [==============================] - 9s 203us/step - loss: 0.7920 - acc: 0.7669 - val_loss: 1.2996 - val_acc: 0.6016\n"
          ],
          "name": "stdout"
        },
        {
          "output_type": "execute_result",
          "data": {
            "text/plain": [
              "<keras.callbacks.History at 0x7f052bb450f0>"
            ]
          },
          "metadata": {
            "tags": []
          },
          "execution_count": 23
        }
      ]
    },
    {
      "cell_type": "code",
      "metadata": {
        "id": "1EoAkCxPeLGz",
        "colab_type": "code",
        "colab": {
          "base_uri": "https://localhost:8080/",
          "height": 52
        },
        "outputId": "b5b55345-0438-4d80-e628-7da8981c42cb"
      },
      "source": [
        "model.evaluate(x_test,y_test_cat)"
      ],
      "execution_count": 24,
      "outputs": [
        {
          "output_type": "stream",
          "text": [
            "10000/10000 [==============================] - 1s 104us/step\n"
          ],
          "name": "stdout"
        },
        {
          "output_type": "execute_result",
          "data": {
            "text/plain": [
              "[1.3274515935897828, 0.5866]"
            ]
          },
          "metadata": {
            "tags": []
          },
          "execution_count": 24
        }
      ]
    },
    {
      "cell_type": "code",
      "metadata": {
        "id": "1bM3Dyrmmlsq",
        "colab_type": "code",
        "colab": {}
      },
      "source": [
        ""
      ],
      "execution_count": 0,
      "outputs": []
    }
  ]
}